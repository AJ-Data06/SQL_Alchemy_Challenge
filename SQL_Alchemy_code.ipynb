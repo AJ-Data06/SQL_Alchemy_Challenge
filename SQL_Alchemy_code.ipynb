{
 "cells": [
  {
   "cell_type": "code",
   "execution_count": 1,
   "metadata": {},
   "outputs": [],
   "source": [
    "%matplotlib inline\n",
    "from matplotlib import style\n",
    "style.use('fivethirtyeight')\n",
    "import matplotlib.pyplot as plt"
   ]
  },
  {
   "cell_type": "code",
   "execution_count": 2,
   "metadata": {},
   "outputs": [],
   "source": [
    "import numpy as np\n",
    "import pandas as pd"
   ]
  },
  {
   "cell_type": "code",
   "execution_count": 3,
   "metadata": {},
   "outputs": [],
   "source": [
    "import datetime as dt"
   ]
  },
  {
   "cell_type": "markdown",
   "metadata": {},
   "source": [
    "# Reflect Tables into SQLAlchemy ORM"
   ]
  },
  {
   "cell_type": "code",
   "execution_count": 4,
   "metadata": {},
   "outputs": [],
   "source": [
    "# Python SQL toolkit and Object Relational Mapper\n",
    "import sqlalchemy\n",
    "from sqlalchemy.ext.automap import automap_base\n",
    "from sqlalchemy.orm import Session\n",
    "from sqlalchemy import create_engine, func, inspect"
   ]
  },
  {
   "cell_type": "code",
   "execution_count": 5,
   "metadata": {},
   "outputs": [],
   "source": [
    "engine = create_engine(\"sqlite:///hawaii.sqlite\", echo=False)\n",
    "conn= engine.connect()"
   ]
  },
  {
   "cell_type": "code",
   "execution_count": 6,
   "metadata": {},
   "outputs": [],
   "source": [
    "# reflect an existing database into a new model\n",
    "# reflect the tables\n",
    "Base = automap_base()"
   ]
  },
  {
   "cell_type": "code",
   "execution_count": 7,
   "metadata": {},
   "outputs": [],
   "source": [
    "Base.prepare(engine, reflect=True)"
   ]
  },
  {
   "cell_type": "code",
   "execution_count": 8,
   "metadata": {},
   "outputs": [
    {
     "data": {
      "text/plain": [
       "['measurement', 'station']"
      ]
     },
     "execution_count": 8,
     "metadata": {},
     "output_type": "execute_result"
    }
   ],
   "source": [
    "# We can view all of the classes that automap found\n",
    "Base.classes.keys()"
   ]
  },
  {
   "cell_type": "code",
   "execution_count": 9,
   "metadata": {},
   "outputs": [],
   "source": [
    "# Save references to each table\n",
    "Measurement = Base.classes.measurement\n",
    "Station = Base.classes.station"
   ]
  },
  {
   "cell_type": "code",
   "execution_count": 10,
   "metadata": {},
   "outputs": [],
   "source": [
    "# Create our session (link) from Python to the DB\n",
    "session = Session(engine)"
   ]
  },
  {
   "cell_type": "code",
   "execution_count": 11,
   "metadata": {},
   "outputs": [],
   "source": [
    "inspector = inspect(engine)"
   ]
  },
  {
   "cell_type": "code",
   "execution_count": 12,
   "metadata": {},
   "outputs": [
    {
     "name": "stdout",
     "output_type": "stream",
     "text": [
      "id\n",
      "station\n",
      "date\n",
      "prcp\n",
      "tobs\n"
     ]
    }
   ],
   "source": [
    "columns = inspector.get_columns('measurement')\n",
    "for col in columns:\n",
    "    print(col['name'])"
   ]
  },
  {
   "cell_type": "code",
   "execution_count": 13,
   "metadata": {},
   "outputs": [
    {
     "name": "stdout",
     "output_type": "stream",
     "text": [
      "id\n",
      "station\n",
      "name\n",
      "latitude\n",
      "longitude\n",
      "elevation\n"
     ]
    }
   ],
   "source": [
    "columns = inspector.get_columns('Station')\n",
    "for col in columns:\n",
    "    print(col['name'])"
   ]
  },
  {
   "cell_type": "markdown",
   "metadata": {},
   "source": [
    "# Exploratory Climate Analysis"
   ]
  },
  {
   "cell_type": "code",
   "execution_count": 14,
   "metadata": {},
   "outputs": [
    {
     "name": "stdout",
     "output_type": "stream",
     "text": [
      "('2017-08-23',)\n"
     ]
    }
   ],
   "source": [
    "# Calculate the date 1 year ago from the last data point in the database\n",
    "last_date = engine.execute(\"select date from Measurement order by date desc limit 1\")\n",
    "for x in last_date:\n",
    "    print(x)"
   ]
  },
  {
   "cell_type": "code",
   "execution_count": 15,
   "metadata": {},
   "outputs": [
    {
     "data": {
      "text/plain": [
       "datetime.date(2016, 8, 23)"
      ]
     },
     "execution_count": 15,
     "metadata": {},
     "output_type": "execute_result"
    }
   ],
   "source": [
    "# Calculate the date 1 year ago from the last data point in the database\n",
    "one_year_ago = dt.date(2017, 8, 23) - dt.timedelta(days=365)\n",
    "one_year_ago"
   ]
  },
  {
   "cell_type": "code",
   "execution_count": 16,
   "metadata": {},
   "outputs": [],
   "source": [
    "#Perform a query to retrieve the data and precipitation scores\n",
    "data = session.query(Measurement.date, Measurement.prcp).all()"
   ]
  },
  {
   "cell_type": "code",
   "execution_count": 17,
   "metadata": {},
   "outputs": [],
   "source": [
    "# Design a query to retrieve the last 12 months of precipitation data and plot the results\n",
    "new_data = session.query(Measurement.date, Measurement.prcp).filter(Measurement.date >= one_year_ago).\\\n",
    "    order_by(Measurement.date).all()"
   ]
  },
  {
   "cell_type": "code",
   "execution_count": 18,
   "metadata": {},
   "outputs": [
    {
     "data": {
      "text/html": [
       "<div>\n",
       "<style scoped>\n",
       "    .dataframe tbody tr th:only-of-type {\n",
       "        vertical-align: middle;\n",
       "    }\n",
       "\n",
       "    .dataframe tbody tr th {\n",
       "        vertical-align: top;\n",
       "    }\n",
       "\n",
       "    .dataframe thead th {\n",
       "        text-align: right;\n",
       "    }\n",
       "</style>\n",
       "<table border=\"1\" class=\"dataframe\">\n",
       "  <thead>\n",
       "    <tr style=\"text-align: right;\">\n",
       "      <th></th>\n",
       "      <th>date</th>\n",
       "      <th>prcp</th>\n",
       "    </tr>\n",
       "    <tr>\n",
       "      <th>date</th>\n",
       "      <th></th>\n",
       "      <th></th>\n",
       "    </tr>\n",
       "  </thead>\n",
       "  <tbody>\n",
       "    <tr>\n",
       "      <th>2016-08-23</th>\n",
       "      <td>2016-08-23</td>\n",
       "      <td>0.00</td>\n",
       "    </tr>\n",
       "    <tr>\n",
       "      <th>2016-08-23</th>\n",
       "      <td>2016-08-23</td>\n",
       "      <td>0.15</td>\n",
       "    </tr>\n",
       "    <tr>\n",
       "      <th>2016-08-23</th>\n",
       "      <td>2016-08-23</td>\n",
       "      <td>0.05</td>\n",
       "    </tr>\n",
       "    <tr>\n",
       "      <th>2016-08-23</th>\n",
       "      <td>2016-08-23</td>\n",
       "      <td>0.02</td>\n",
       "    </tr>\n",
       "    <tr>\n",
       "      <th>2016-08-23</th>\n",
       "      <td>2016-08-23</td>\n",
       "      <td>1.79</td>\n",
       "    </tr>\n",
       "    <tr>\n",
       "      <th>...</th>\n",
       "      <td>...</td>\n",
       "      <td>...</td>\n",
       "    </tr>\n",
       "    <tr>\n",
       "      <th>2017-08-22</th>\n",
       "      <td>2017-08-22</td>\n",
       "      <td>0.50</td>\n",
       "    </tr>\n",
       "    <tr>\n",
       "      <th>2017-08-23</th>\n",
       "      <td>2017-08-23</td>\n",
       "      <td>0.00</td>\n",
       "    </tr>\n",
       "    <tr>\n",
       "      <th>2017-08-23</th>\n",
       "      <td>2017-08-23</td>\n",
       "      <td>0.00</td>\n",
       "    </tr>\n",
       "    <tr>\n",
       "      <th>2017-08-23</th>\n",
       "      <td>2017-08-23</td>\n",
       "      <td>0.08</td>\n",
       "    </tr>\n",
       "    <tr>\n",
       "      <th>2017-08-23</th>\n",
       "      <td>2017-08-23</td>\n",
       "      <td>0.45</td>\n",
       "    </tr>\n",
       "  </tbody>\n",
       "</table>\n",
       "<p>2021 rows × 2 columns</p>\n",
       "</div>"
      ],
      "text/plain": [
       "                  date  prcp\n",
       "date                        \n",
       "2016-08-23  2016-08-23  0.00\n",
       "2016-08-23  2016-08-23  0.15\n",
       "2016-08-23  2016-08-23  0.05\n",
       "2016-08-23  2016-08-23  0.02\n",
       "2016-08-23  2016-08-23  1.79\n",
       "...                ...   ...\n",
       "2017-08-22  2017-08-22  0.50\n",
       "2017-08-23  2017-08-23  0.00\n",
       "2017-08-23  2017-08-23  0.00\n",
       "2017-08-23  2017-08-23  0.08\n",
       "2017-08-23  2017-08-23  0.45\n",
       "\n",
       "[2021 rows x 2 columns]"
      ]
     },
     "execution_count": 18,
     "metadata": {},
     "output_type": "execute_result"
    }
   ],
   "source": [
    "# Save the query results as a Pandas DataFrame and set the index to the date column\n",
    "df =pd.DataFrame(new_data, columns=['date','prcp'])\n",
    "df.set_index(df['date'], inplace=True)\n",
    "df=df.dropna()\n",
    "df"
   ]
  },
  {
   "cell_type": "code",
   "execution_count": 19,
   "metadata": {},
   "outputs": [],
   "source": [
    "data_02 = session.query(Measurement.date, Measurement.prcp, Measurement.station, Measurement.tobs).all()"
   ]
  },
  {
   "cell_type": "code",
   "execution_count": 20,
   "metadata": {},
   "outputs": [
    {
     "data": {
      "text/html": [
       "<div>\n",
       "<style scoped>\n",
       "    .dataframe tbody tr th:only-of-type {\n",
       "        vertical-align: middle;\n",
       "    }\n",
       "\n",
       "    .dataframe tbody tr th {\n",
       "        vertical-align: top;\n",
       "    }\n",
       "\n",
       "    .dataframe thead th {\n",
       "        text-align: right;\n",
       "    }\n",
       "</style>\n",
       "<table border=\"1\" class=\"dataframe\">\n",
       "  <thead>\n",
       "    <tr style=\"text-align: right;\">\n",
       "      <th></th>\n",
       "      <th>date</th>\n",
       "      <th>prcp</th>\n",
       "      <th>station</th>\n",
       "      <th>tobs</th>\n",
       "    </tr>\n",
       "  </thead>\n",
       "  <tbody>\n",
       "    <tr>\n",
       "      <th>0</th>\n",
       "      <td>2010-01-01</td>\n",
       "      <td>0.08</td>\n",
       "      <td>USC00519397</td>\n",
       "      <td>65.0</td>\n",
       "    </tr>\n",
       "    <tr>\n",
       "      <th>1</th>\n",
       "      <td>2010-01-02</td>\n",
       "      <td>0.00</td>\n",
       "      <td>USC00519397</td>\n",
       "      <td>63.0</td>\n",
       "    </tr>\n",
       "    <tr>\n",
       "      <th>2</th>\n",
       "      <td>2010-01-03</td>\n",
       "      <td>0.00</td>\n",
       "      <td>USC00519397</td>\n",
       "      <td>74.0</td>\n",
       "    </tr>\n",
       "    <tr>\n",
       "      <th>3</th>\n",
       "      <td>2010-01-04</td>\n",
       "      <td>0.00</td>\n",
       "      <td>USC00519397</td>\n",
       "      <td>76.0</td>\n",
       "    </tr>\n",
       "    <tr>\n",
       "      <th>4</th>\n",
       "      <td>2010-01-06</td>\n",
       "      <td>NaN</td>\n",
       "      <td>USC00519397</td>\n",
       "      <td>73.0</td>\n",
       "    </tr>\n",
       "    <tr>\n",
       "      <th>...</th>\n",
       "      <td>...</td>\n",
       "      <td>...</td>\n",
       "      <td>...</td>\n",
       "      <td>...</td>\n",
       "    </tr>\n",
       "    <tr>\n",
       "      <th>19545</th>\n",
       "      <td>2017-08-19</td>\n",
       "      <td>0.09</td>\n",
       "      <td>USC00516128</td>\n",
       "      <td>71.0</td>\n",
       "    </tr>\n",
       "    <tr>\n",
       "      <th>19546</th>\n",
       "      <td>2017-08-20</td>\n",
       "      <td>NaN</td>\n",
       "      <td>USC00516128</td>\n",
       "      <td>78.0</td>\n",
       "    </tr>\n",
       "    <tr>\n",
       "      <th>19547</th>\n",
       "      <td>2017-08-21</td>\n",
       "      <td>0.56</td>\n",
       "      <td>USC00516128</td>\n",
       "      <td>76.0</td>\n",
       "    </tr>\n",
       "    <tr>\n",
       "      <th>19548</th>\n",
       "      <td>2017-08-22</td>\n",
       "      <td>0.50</td>\n",
       "      <td>USC00516128</td>\n",
       "      <td>76.0</td>\n",
       "    </tr>\n",
       "    <tr>\n",
       "      <th>19549</th>\n",
       "      <td>2017-08-23</td>\n",
       "      <td>0.45</td>\n",
       "      <td>USC00516128</td>\n",
       "      <td>76.0</td>\n",
       "    </tr>\n",
       "  </tbody>\n",
       "</table>\n",
       "<p>19550 rows × 4 columns</p>\n",
       "</div>"
      ],
      "text/plain": [
       "             date  prcp      station  tobs\n",
       "0      2010-01-01  0.08  USC00519397  65.0\n",
       "1      2010-01-02  0.00  USC00519397  63.0\n",
       "2      2010-01-03  0.00  USC00519397  74.0\n",
       "3      2010-01-04  0.00  USC00519397  76.0\n",
       "4      2010-01-06   NaN  USC00519397  73.0\n",
       "...           ...   ...          ...   ...\n",
       "19545  2017-08-19  0.09  USC00516128  71.0\n",
       "19546  2017-08-20   NaN  USC00516128  78.0\n",
       "19547  2017-08-21  0.56  USC00516128  76.0\n",
       "19548  2017-08-22  0.50  USC00516128  76.0\n",
       "19549  2017-08-23  0.45  USC00516128  76.0\n",
       "\n",
       "[19550 rows x 4 columns]"
      ]
     },
     "execution_count": 20,
     "metadata": {},
     "output_type": "execute_result"
    }
   ],
   "source": [
    "df_new =pd.DataFrame(data_02, columns=['date','prcp','station','tobs'])\n",
    "df_new"
   ]
  },
  {
   "cell_type": "code",
   "execution_count": 21,
   "metadata": {},
   "outputs": [
    {
     "data": {
      "image/png": "[encoded data removed]",
      "text/plain": [
       "<Figure size 432x288 with 1 Axes>"
      ]
     },
     "metadata": {},
     "output_type": "display_data"
    }
   ],
   "source": [
    "# Use Pandas Plotting with Matplotlib to plot the data\n",
    "df.plot('date', 'prcp')\n",
    "plt.xlabel(\"Date\")\n",
    "plt.ylabel(\"Rain in Inches\")\n",
    "plt.title(\"Precipitation Analysis\")\n",
    "plt.legend([\"Precipitation\"], loc='upper right')\n",
    "plt.xticks(rotation=90)\n",
    "plt.show()"
   ]
  },
  {
   "cell_type": "code",
   "execution_count": 22,
   "metadata": {},
   "outputs": [
    {
     "data": {
      "text/html": [
       "<div>\n",
       "<style scoped>\n",
       "    .dataframe tbody tr th:only-of-type {\n",
       "        vertical-align: middle;\n",
       "    }\n",
       "\n",
       "    .dataframe tbody tr th {\n",
       "        vertical-align: top;\n",
       "    }\n",
       "\n",
       "    .dataframe thead th {\n",
       "        text-align: right;\n",
       "    }\n",
       "</style>\n",
       "<table border=\"1\" class=\"dataframe\">\n",
       "  <thead>\n",
       "    <tr style=\"text-align: right;\">\n",
       "      <th></th>\n",
       "      <th>prcp</th>\n",
       "    </tr>\n",
       "  </thead>\n",
       "  <tbody>\n",
       "    <tr>\n",
       "      <th>count</th>\n",
       "      <td>2021.000000</td>\n",
       "    </tr>\n",
       "    <tr>\n",
       "      <th>mean</th>\n",
       "      <td>0.177279</td>\n",
       "    </tr>\n",
       "    <tr>\n",
       "      <th>std</th>\n",
       "      <td>0.461190</td>\n",
       "    </tr>\n",
       "    <tr>\n",
       "      <th>min</th>\n",
       "      <td>0.000000</td>\n",
       "    </tr>\n",
       "    <tr>\n",
       "      <th>25%</th>\n",
       "      <td>0.000000</td>\n",
       "    </tr>\n",
       "    <tr>\n",
       "      <th>50%</th>\n",
       "      <td>0.020000</td>\n",
       "    </tr>\n",
       "    <tr>\n",
       "      <th>75%</th>\n",
       "      <td>0.130000</td>\n",
       "    </tr>\n",
       "    <tr>\n",
       "      <th>max</th>\n",
       "      <td>6.700000</td>\n",
       "    </tr>\n",
       "  </tbody>\n",
       "</table>\n",
       "</div>"
      ],
      "text/plain": [
       "              prcp\n",
       "count  2021.000000\n",
       "mean      0.177279\n",
       "std       0.461190\n",
       "min       0.000000\n",
       "25%       0.000000\n",
       "50%       0.020000\n",
       "75%       0.130000\n",
       "max       6.700000"
      ]
     },
     "execution_count": 22,
     "metadata": {},
     "output_type": "execute_result"
    }
   ],
   "source": [
    "# Use Pandas to calcualte the summary statistics for the precipitation data\n",
    "df.describe()"
   ]
  },
  {
   "cell_type": "code",
   "execution_count": 23,
   "metadata": {},
   "outputs": [
    {
     "name": "stdout",
     "output_type": "stream",
     "text": [
      "9\n"
     ]
    }
   ],
   "source": [
    "# Design a query to show how many stations are available in this dataset?\n",
    "station_count = session.query(Measurement.station).distinct().all()\n",
    "print(len(station_count))"
   ]
  },
  {
   "cell_type": "code",
   "execution_count": 24,
   "metadata": {},
   "outputs": [
    {
     "data": {
      "text/plain": [
       "[('USC00519281', 2772),\n",
       " ('USC00519397', 2724),\n",
       " ('USC00513117', 2709),\n",
       " ('USC00519523', 2669),\n",
       " ('USC00516128', 2612),\n",
       " ('USC00514830', 2202),\n",
       " ('USC00511918', 1979),\n",
       " ('USC00517948', 1372),\n",
       " ('USC00518838', 511)]"
      ]
     },
     "execution_count": 24,
     "metadata": {},
     "output_type": "execute_result"
    }
   ],
   "source": [
    "# What are the most active stations? (i.e. what stations have the most rows)?\n",
    "# List the stations and the counts in descending order.\n",
    "active_stations = session.query(Measurement.station, func.count(Measurement.station)).group_by(Measurement.station).order_by(func.count(Measurement.station).desc()).all()\n",
    "active_stations"
   ]
  },
  {
   "cell_type": "code",
   "execution_count": 25,
   "metadata": {},
   "outputs": [
    {
     "name": "stdout",
     "output_type": "stream",
     "text": [
      "[(56.0,)] [(85.0,)] [(74.5436493068565,)]\n"
     ]
    }
   ],
   "source": [
    "# Using the station id from the previous query, calculate the lowest temperature recorded, \n",
    "# highest temperature recorded, and average temperature of the most active station?\n",
    "lowest_temp = session.query(func.min(Measurement.tobs)).group_by(Measurement.station).filter(Measurement.station =='USC00519523').all()\n",
    "highest_temp = session.query(func.max(Measurement.tobs)).group_by(Measurement.station).filter(Measurement.station =='USC00519523').all()\n",
    "avg_temp = session.query(func.avg(Measurement.tobs)).group_by(Measurement.station).filter(Measurement.station =='USC00519523').all()\n",
    "print(lowest_temp, highest_temp, avg_temp)"
   ]
  },
  {
   "cell_type": "code",
   "execution_count": 26,
   "metadata": {},
   "outputs": [
    {
     "name": "stdout",
     "output_type": "stream",
     "text": [
      "The station with highest number of observations is USC00519281 \n"
     ]
    }
   ],
   "source": [
    "# Choose the station with the highest number of temperature observations.\n",
    "highest_obs = session.query(Measurement.tobs, Measurement.station, func.count(Measurement.tobs)).group_by(Measurement.station).order_by(func.count(Measurement.tobs).desc()).all()\n",
    "highest_obs\n",
    "print(f\"The station with highest number of observations is {highest_obs[0][1]} \")\n",
    "\n"
   ]
  },
  {
   "cell_type": "code",
   "execution_count": 27,
   "metadata": {},
   "outputs": [
    {
     "data": {
      "text/plain": [
       "[(70.0, 'USC00519281', 2772),\n",
       " (65.0, 'USC00519397', 2724),\n",
       " (67.0, 'USC00513117', 2709),\n",
       " (75.0, 'USC00519523', 2669),\n",
       " (73.0, 'USC00516128', 2612),\n",
       " (67.0, 'USC00514830', 2202),\n",
       " (66.0, 'USC00511918', 1979),\n",
       " (75.0, 'USC00517948', 1372),\n",
       " (72.0, 'USC00518838', 511)]"
      ]
     },
     "execution_count": 27,
     "metadata": {},
     "output_type": "execute_result"
    }
   ],
   "source": [
    "highest_obs"
   ]
  },
  {
   "cell_type": "code",
   "execution_count": 28,
   "metadata": {},
   "outputs": [],
   "source": [
    "# Query the last 12 months of temperature observation data for this station and plot the results as a histogram\n",
    "station_obs = session.query(Measurement.tobs, Measurement.station).filter(Measurement.date >= one_year_ago).\\\n",
    "    order_by(Measurement.date).filter(Measurement.station =='USC00519281').all()\n"
   ]
  },
  {
   "cell_type": "code",
   "execution_count": 29,
   "metadata": {},
   "outputs": [
    {
     "data": {
      "text/html": [
       "<div>\n",
       "<style scoped>\n",
       "    .dataframe tbody tr th:only-of-type {\n",
       "        vertical-align: middle;\n",
       "    }\n",
       "\n",
       "    .dataframe tbody tr th {\n",
       "        vertical-align: top;\n",
       "    }\n",
       "\n",
       "    .dataframe thead th {\n",
       "        text-align: right;\n",
       "    }\n",
       "</style>\n",
       "<table border=\"1\" class=\"dataframe\">\n",
       "  <thead>\n",
       "    <tr style=\"text-align: right;\">\n",
       "      <th></th>\n",
       "      <th>tobs</th>\n",
       "      <th>station</th>\n",
       "    </tr>\n",
       "  </thead>\n",
       "  <tbody>\n",
       "    <tr>\n",
       "      <th>0</th>\n",
       "      <td>77.0</td>\n",
       "      <td>USC00519281</td>\n",
       "    </tr>\n",
       "    <tr>\n",
       "      <th>1</th>\n",
       "      <td>77.0</td>\n",
       "      <td>USC00519281</td>\n",
       "    </tr>\n",
       "    <tr>\n",
       "      <th>2</th>\n",
       "      <td>80.0</td>\n",
       "      <td>USC00519281</td>\n",
       "    </tr>\n",
       "    <tr>\n",
       "      <th>3</th>\n",
       "      <td>80.0</td>\n",
       "      <td>USC00519281</td>\n",
       "    </tr>\n",
       "    <tr>\n",
       "      <th>4</th>\n",
       "      <td>75.0</td>\n",
       "      <td>USC00519281</td>\n",
       "    </tr>\n",
       "    <tr>\n",
       "      <th>...</th>\n",
       "      <td>...</td>\n",
       "      <td>...</td>\n",
       "    </tr>\n",
       "    <tr>\n",
       "      <th>347</th>\n",
       "      <td>77.0</td>\n",
       "      <td>USC00519281</td>\n",
       "    </tr>\n",
       "    <tr>\n",
       "      <th>348</th>\n",
       "      <td>77.0</td>\n",
       "      <td>USC00519281</td>\n",
       "    </tr>\n",
       "    <tr>\n",
       "      <th>349</th>\n",
       "      <td>76.0</td>\n",
       "      <td>USC00519281</td>\n",
       "    </tr>\n",
       "    <tr>\n",
       "      <th>350</th>\n",
       "      <td>76.0</td>\n",
       "      <td>USC00519281</td>\n",
       "    </tr>\n",
       "    <tr>\n",
       "      <th>351</th>\n",
       "      <td>79.0</td>\n",
       "      <td>USC00519281</td>\n",
       "    </tr>\n",
       "  </tbody>\n",
       "</table>\n",
       "<p>352 rows × 2 columns</p>\n",
       "</div>"
      ],
      "text/plain": [
       "     tobs      station\n",
       "0    77.0  USC00519281\n",
       "1    77.0  USC00519281\n",
       "2    80.0  USC00519281\n",
       "3    80.0  USC00519281\n",
       "4    75.0  USC00519281\n",
       "..    ...          ...\n",
       "347  77.0  USC00519281\n",
       "348  77.0  USC00519281\n",
       "349  76.0  USC00519281\n",
       "350  76.0  USC00519281\n",
       "351  79.0  USC00519281\n",
       "\n",
       "[352 rows x 2 columns]"
      ]
     },
     "execution_count": 29,
     "metadata": {},
     "output_type": "execute_result"
    }
   ],
   "source": [
    "temp_df = pd.DataFrame(station_obs, columns=['tobs', 'station'])\n",
    "temp_df"
   ]
  },
  {
   "cell_type": "code",
   "execution_count": 30,
   "metadata": {},
   "outputs": [
    {
     "data": {
      "image/png": "[encoded data removed]",
      "text/plain": [
       "<Figure size 432x288 with 1 Axes>"
      ]
     },
     "metadata": {},
     "output_type": "display_data"
    },
    {
     "data": {
      "text/plain": [
       "<Figure size 432x288 with 0 Axes>"
      ]
     },
     "metadata": {},
     "output_type": "display_data"
    }
   ],
   "source": [
    "hist = temp_df['tobs'].hist(bins=12)\n",
    "plt.xlabel(\"Temp\")\n",
    "plt.ylabel(\"frequency\")\n",
    "plt.title(\"USC00519281\")\n",
    "plt.legend([\"Precipitation\"], loc='upper left')\n",
    "plt.show()\n",
    "plt.savefig(\"USC00519281\")"
   ]
  },
  {
   "cell_type": "markdown",
   "metadata": {},
   "source": [
    "## Bonus Challenge Assignment"
   ]
  },
  {
   "cell_type": "code",
   "execution_count": 31,
   "metadata": {},
   "outputs": [
    {
     "name": "stdout",
     "output_type": "stream",
     "text": [
      "[(62.0, 69.57142857142857, 74.0)]\n"
     ]
    }
   ],
   "source": [
    "# This function called `calc_temps` will accept start date and end date in the format '%Y-%m-%d' \n",
    "# and return the minimum, average, and maximum temperatures for that range of dates\n",
    "def calc_temps(start_date, end_date):\n",
    "    \"\"\"TMIN, TAVG, and TMAX for a list of dates.\n",
    "    \n",
    "    Args:\n",
    "        start_date (string): A date string in the format %Y-%m-%d\n",
    "        end_date (string): A date string in the format %Y-%m-%d\n",
    "        \n",
    "    Returns:\n",
    "        TMIN, TAVE, and TMAX\n",
    "    \"\"\"\n",
    "    \n",
    "    return session.query(func.min(Measurement.tobs), func.avg(Measurement.tobs), func.max(Measurement.tobs)).\\\n",
    "        filter(Measurement.date >= start_date).filter(Measurement.date <= end_date).all()\n",
    "\n",
    "# function usage example\n",
    "print(calc_temps('2012-02-28', '2012-03-05'))"
   ]
  },
  {
   "cell_type": "code",
   "execution_count": 32,
   "metadata": {},
   "outputs": [
    {
     "name": "stdout",
     "output_type": "stream",
     "text": [
      "2016-08-20 2016-08-30\n"
     ]
    }
   ],
   "source": [
    "# Use your previous function `calc_temps` to calculate the tmin, tavg, and tmax \n",
    "# for your trip using the previous year's data for those same dates.\n",
    "start_date = dt.date(2017, 8, 20) - dt.timedelta(days=365)\n",
    "end_date = dt.date(2017, 8, 30) - dt.timedelta(days=365)\n",
    "print(start_date, end_date)\n"
   ]
  },
  {
   "cell_type": "code",
   "execution_count": 33,
   "metadata": {},
   "outputs": [
    {
     "data": {
      "text/plain": [
       "[(71.0, 78.08571428571429, 84.0)]"
      ]
     },
     "execution_count": 33,
     "metadata": {},
     "output_type": "execute_result"
    }
   ],
   "source": [
    "my_trip =calc_temps('2016-08-20', '2016-08-30')\n",
    "my_trip"
   ]
  },
  {
   "cell_type": "code",
   "execution_count": 34,
   "metadata": {},
   "outputs": [
    {
     "data": {
      "image/png": "[encoded data removed]",
      "text/plain": [
       "<Figure size 288x576 with 1 Axes>"
      ]
     },
     "metadata": {},
     "output_type": "display_data"
    }
   ],
   "source": [
    "# Plot the results from your previous query as a bar chart. \n",
    "# Use \"Trip Avg Temp\" as your Title\n",
    "# Use the average temperature for the y value\n",
    "# Use the peak-to-peak (tmax-tmin) value as the y error bar (yerr)\n",
    "error = my_trip[0][2]-my_trip[0][0]\n",
    "y_axis = my_trip[0][1]\n",
    "fig, ax = plt.subplots(figsize=plt.figaspect(2.))\n",
    "bar_chart = ax.bar(1 , y_axis, color= 'salmon', tick_label='',yerr=error, alpha=0.6, align='center')\n",
    "ax.set_xlabel(\"Trip\")\n",
    "ax.set_ylabel(\"Temperature (F)\")\n",
    "plt.show()\n"
   ]
  },
  {
   "cell_type": "code",
   "execution_count": 35,
   "metadata": {},
   "outputs": [
    {
     "data": {
      "text/plain": [
       "[('USC00516128', 7.760000000000001),\n",
       " ('USC00519281', 7.609999999999999),\n",
       " ('USC00513117', 4.1899999999999995),\n",
       " ('USC00514830', 2.55),\n",
       " ('USC00519523', 2.4),\n",
       " ('USC00519397', 0.69),\n",
       " ('USC00517948', 0.06)]"
      ]
     },
     "execution_count": 35,
     "metadata": {},
     "output_type": "execute_result"
    }
   ],
   "source": [
    "# Calculate the total amount of rainfall per weather station for your trip dates using the previous year's matching dates.\n",
    "total_rainfall = session.query(Measurement.station, func.sum(Measurement.prcp)).filter(Measurement.date >= start_date).filter(Measurement.date <= end_date).group_by(Measurement.station).order_by(func.sum(Measurement.prcp).desc()).all()\n",
    "total_rainfall "
   ]
  },
  {
   "cell_type": "code",
   "execution_count": 36,
   "metadata": {},
   "outputs": [
    {
     "name": "stdout",
     "output_type": "stream",
     "text": [
      "('MANOA LYON ARBO 785.2, HI US', 21.3331, -157.8025, 152.4, 'USC00516128', 7.760000000000001)\n",
      "('WAIHEE 837.5, HI US', 21.45167, -157.84888999999998, 32.9, 'USC00519281', 7.609999999999999)\n",
      "('KANEOHE 838.1, HI US', 21.4234, -157.8015, 14.6, 'USC00513117', 4.1899999999999995)\n",
      "('KUALOA RANCH HEADQUARTERS 886.9, HI US', 21.5213, -157.8374, 7.0, 'USC00514830', 2.55)\n",
      "('WAIMANALO EXPERIMENTAL FARM, HI US', 21.33556, -157.71139, 19.5, 'USC00519523', 2.4)\n",
      "('WAIKIKI 717.2, HI US', 21.2716, -157.8168, 3.0, 'USC00519397', 0.69)\n",
      "('PEARL CITY, HI US', 21.3934, -157.9751, 11.9, 'USC00517948', 0.06)\n"
     ]
    }
   ],
   "source": [
    "total_station = session.query(Station.name, Station.latitude, Station.longitude, Station.elevation,Measurement.station, func.sum(Measurement.prcp)).filter(Station.station==Measurement.station).filter(Measurement.date >= start_date).filter(Measurement.date <= end_date).group_by(Measurement.station).order_by(func.sum(Measurement.prcp).desc()).all()\n",
    "for x in total_station:\n",
    "    print(x)"
   ]
  },
  {
   "cell_type": "code",
   "execution_count": 37,
   "metadata": {},
   "outputs": [
    {
     "data": {
      "text/plain": [
       "['USC00516128',\n",
       " 'USC00519281',\n",
       " 'USC00513117',\n",
       " 'USC00514830',\n",
       " 'USC00519523',\n",
       " 'USC00519397',\n",
       " 'USC00517948']"
      ]
     },
     "execution_count": 37,
     "metadata": {},
     "output_type": "execute_result"
    }
   ],
   "source": [
    "# Sort this in descending order by precipitation amount and list the station, name, latitude, longitude, and elevation\n",
    "station_list = [total_rainfall[0] for total_rainfall in total_rainfall]\n",
    "station_list"
   ]
  },
  {
   "cell_type": "code",
   "execution_count": 38,
   "metadata": {},
   "outputs": [
    {
     "name": "stdout",
     "output_type": "stream",
     "text": [
      "('USC00519397', 'WAIKIKI 717.2, HI US', 21.2716, -157.8168, 4.1899999999999995)\n",
      "('USC00513117', 'KANEOHE 838.1, HI US', 21.4234, -157.8015, 4.1899999999999995)\n",
      "('USC00514830', 'KUALOA RANCH HEADQUARTERS 886.9, HI US', 21.5213, -157.8374, 4.1899999999999995)\n",
      "('USC00517948', 'PEARL CITY, HI US', 21.3934, -157.9751, 4.1899999999999995)\n",
      "('USC00518838', 'UPPER WAHIAWA 874.3, HI US', 21.4992, -158.0111, 4.1899999999999995)\n",
      "('USC00519523', 'WAIMANALO EXPERIMENTAL FARM, HI US', 21.33556, -157.71139, 4.1899999999999995)\n",
      "('USC00519281', 'WAIHEE 837.5, HI US', 21.45167, -157.84888999999998, 4.1899999999999995)\n",
      "('USC00511918', 'HONOLULU OBSERVATORY 702.2, HI US', 21.3152, -157.9992, 4.1899999999999995)\n",
      "('USC00516128', 'MANOA LYON ARBO 785.2, HI US', 21.3331, -157.8025, 4.1899999999999995)\n"
     ]
    }
   ],
   "source": [
    "data = engine.execute(\"select station, name, latitude, longitude, (select sum(measurement.prcp) from measurement where measurement.date >= '2016-08-20' and measurement.date <= '2016-08-30' group by measurement.station) as 'prcp_sum' from station order by 'prcp_sum'\")\n",
    "for x in data:\n",
    "    print(x)\n",
    "                      "
   ]
  },
  {
   "cell_type": "code",
   "execution_count": 61,
   "metadata": {},
   "outputs": [
    {
     "name": "stdout",
     "output_type": "stream",
     "text": [
      "('USC00519397', 'WAIKIKI 717.2, HI US', 21.2716, -157.8168, 0.69)\n",
      "('USC00513117', 'KANEOHE 838.1, HI US', 21.4234, -157.8015, 4.1899999999999995)\n",
      "('USC00514830', 'KUALOA RANCH HEADQUARTERS 886.9, HI US', 21.5213, -157.8374, 2.55)\n",
      "('USC00517948', 'PEARL CITY, HI US', 21.3934, -157.9751, 0.06)\n",
      "('USC00518838', 'UPPER WAHIAWA 874.3, HI US', 21.4992, -158.0111, None)\n",
      "('USC00519523', 'WAIMANALO EXPERIMENTAL FARM, HI US', 21.33556, -157.71139, 2.4)\n",
      "('USC00519281', 'WAIHEE 837.5, HI US', 21.45167, -157.84888999999998, 7.609999999999999)\n",
      "('USC00511918', 'HONOLULU OBSERVATORY 702.2, HI US', 21.3152, -157.9992, None)\n",
      "('USC00516128', 'MANOA LYON ARBO 785.2, HI US', 21.3331, -157.8025, 7.760000000000001)\n"
     ]
    }
   ],
   "source": [
    "data = engine.execute(\"select station, name, latitude, longitude, (select sum(measurement.prcp) from measurement where station.station = measurement.station and measurement.date >= '2016-08-20' and measurement.date <= '2016-08-30' group by measurement.station) as 'prcp_sum' from station order by 'prcp_sum'\")\n",
    "for x in data:\n",
    "    print(x)"
   ]
  },
  {
   "cell_type": "code",
   "execution_count": 40,
   "metadata": {},
   "outputs": [
    {
     "name": "stdout",
     "output_type": "stream",
     "text": [
      "[('USC00516128', 'MANOA LYON ARBO 785.2, HI US', 21.3331, -157.8025, 152.4, 7.760000000000001), ('USC00519281', 'WAIHEE 837.5, HI US', 21.45167, -157.84888999999998, 32.9, 7.609999999999999), ('USC00513117', 'KANEOHE 838.1, HI US', 21.4234, -157.8015, 14.6, 4.1899999999999995), ('USC00514830', 'KUALOA RANCH HEADQUARTERS 886.9, HI US', 21.5213, -157.8374, 7.0, 2.55), ('USC00519523', 'WAIMANALO EXPERIMENTAL FARM, HI US', 21.33556, -157.71139, 19.5, 2.4), ('USC00519397', 'WAIKIKI 717.2, HI US', 21.2716, -157.8168, 3.0, 0.69), ('USC00517948', 'PEARL CITY, HI US', 21.3934, -157.9751, 11.9, 0.06)]\n"
     ]
    }
   ],
   "source": [
    "start_date = '2016-08-20'\n",
    "end_date = '2016-08-30'\n",
    "\n",
    "sel = [Station.station, Station.name, Station.latitude, \n",
    "       Station.longitude, Station.elevation, func.sum(Measurement.prcp)]\n",
    "\n",
    "results = session.query(*sel).\\\n",
    "    filter(Measurement.station == Station.station).\\\n",
    "    filter(Measurement.date >= start_date).\\\n",
    "    filter(Measurement.date <= end_date).\\\n",
    "    group_by(Station.name).order_by(func.sum(Measurement.prcp).desc()).all()\n",
    "print(results)"
   ]
  },
  {
   "cell_type": "code",
   "execution_count": 41,
   "metadata": {},
   "outputs": [
    {
     "data": {
      "text/plain": [
       "[(62.0, 69.15384615384616, 77.0)]"
      ]
     },
     "execution_count": 41,
     "metadata": {},
     "output_type": "execute_result"
    }
   ],
   "source": [
    "# Create a query that will calculate the daily normals \n",
    "# (i.e. the averages for tmin, tmax, and tavg for all historic data matching a specific month and day)\n",
    "\n",
    "def daily_normals(date):\n",
    "    \"\"\"Daily Normals.\n",
    "    \n",
    "    Args:\n",
    "        date (str): A date string in the format '%m-%d'\n",
    "        \n",
    "    Returns:\n",
    "        A list of tuples containing the daily normals, tmin, tavg, and tmax\n",
    "    \n",
    "    \"\"\"\n",
    "    \n",
    "    sel = [func.min(Measurement.tobs), func.avg(Measurement.tobs), func.max(Measurement.tobs)]\n",
    "    return session.query(*sel).filter(func.strftime(\"%m-%d\", Measurement.date) == date).all()\n",
    "    \n",
    "daily_normals(\"01-01\")"
   ]
  },
  {
   "cell_type": "code",
   "execution_count": 42,
   "metadata": {},
   "outputs": [],
   "source": [
    "# calculate the daily normals for your trip\n",
    "# push each tuple of calculations into a list called `normals`\n",
    "# calculate the daily normals for your trip\n",
    "\n",
    "# push each tuple of calculations into a list called `normals`\n",
    "\n",
    "# Set the start and end date of the trip\n",
    "\n",
    "# Use the start and end date to create a range of dates\n",
    "\n",
    "# Stip off the year and save a list of %m-%d strings\n",
    "\n",
    "# Loop through the list of %m-%d strings and calculate the normals for each date\n",
    "\n",
    "trip_dates = pd.date_range(start='20/08/2016', end='30/08/2016', freq='D')"
   ]
  },
  {
   "cell_type": "code",
   "execution_count": 43,
   "metadata": {},
   "outputs": [],
   "source": [
    "trip_month_day = trip_dates.strftime('%m-%d')\n"
   ]
  },
  {
   "cell_type": "code",
   "execution_count": 44,
   "metadata": {},
   "outputs": [
    {
     "data": {
      "text/plain": [
       "[(68.0, 76.45283018867924, 82.0),\n",
       " (67.0, 76.4, 83.0),\n",
       " (69.0, 76.47169811320755, 84.0),\n",
       " (67.0, 76.6923076923077, 87.0),\n",
       " (70.0, 75.96153846153847, 84.0),\n",
       " (69.0, 76.96078431372548, 82.0),\n",
       " (71.0, 76.56862745098039, 84.0),\n",
       " (68.0, 76.28301886792453, 84.0),\n",
       " (67.0, 76.73469387755102, 86.0),\n",
       " (70.0, 76.23529411764706, 85.0),\n",
       " (68.0, 76.41666666666667, 84.0)]"
      ]
     },
     "execution_count": 44,
     "metadata": {},
     "output_type": "execute_result"
    }
   ],
   "source": [
    "normals = []\n",
    "for date in trip_month_day:\n",
    "    normals.append(*daily_normals(date))\n",
    "    \n",
    "    \n",
    "normals"
   ]
  },
  {
   "cell_type": "code",
   "execution_count": 45,
   "metadata": {},
   "outputs": [
    {
     "data": {
      "text/html": [
       "<div>\n",
       "<style scoped>\n",
       "    .dataframe tbody tr th:only-of-type {\n",
       "        vertical-align: middle;\n",
       "    }\n",
       "\n",
       "    .dataframe tbody tr th {\n",
       "        vertical-align: top;\n",
       "    }\n",
       "\n",
       "    .dataframe thead th {\n",
       "        text-align: right;\n",
       "    }\n",
       "</style>\n",
       "<table border=\"1\" class=\"dataframe\">\n",
       "  <thead>\n",
       "    <tr style=\"text-align: right;\">\n",
       "      <th></th>\n",
       "      <th>tmin</th>\n",
       "      <th>tavg</th>\n",
       "      <th>tmax</th>\n",
       "    </tr>\n",
       "    <tr>\n",
       "      <th>date</th>\n",
       "      <th></th>\n",
       "      <th></th>\n",
       "      <th></th>\n",
       "    </tr>\n",
       "  </thead>\n",
       "  <tbody>\n",
       "    <tr>\n",
       "      <th>2016-08-20</th>\n",
       "      <td>68.0</td>\n",
       "      <td>76.452830</td>\n",
       "      <td>82.0</td>\n",
       "    </tr>\n",
       "    <tr>\n",
       "      <th>2016-08-21</th>\n",
       "      <td>67.0</td>\n",
       "      <td>76.400000</td>\n",
       "      <td>83.0</td>\n",
       "    </tr>\n",
       "    <tr>\n",
       "      <th>2016-08-22</th>\n",
       "      <td>69.0</td>\n",
       "      <td>76.471698</td>\n",
       "      <td>84.0</td>\n",
       "    </tr>\n",
       "    <tr>\n",
       "      <th>2016-08-23</th>\n",
       "      <td>67.0</td>\n",
       "      <td>76.692308</td>\n",
       "      <td>87.0</td>\n",
       "    </tr>\n",
       "    <tr>\n",
       "      <th>2016-08-24</th>\n",
       "      <td>70.0</td>\n",
       "      <td>75.961538</td>\n",
       "      <td>84.0</td>\n",
       "    </tr>\n",
       "    <tr>\n",
       "      <th>2016-08-25</th>\n",
       "      <td>69.0</td>\n",
       "      <td>76.960784</td>\n",
       "      <td>82.0</td>\n",
       "    </tr>\n",
       "    <tr>\n",
       "      <th>2016-08-26</th>\n",
       "      <td>71.0</td>\n",
       "      <td>76.568627</td>\n",
       "      <td>84.0</td>\n",
       "    </tr>\n",
       "    <tr>\n",
       "      <th>2016-08-27</th>\n",
       "      <td>68.0</td>\n",
       "      <td>76.283019</td>\n",
       "      <td>84.0</td>\n",
       "    </tr>\n",
       "    <tr>\n",
       "      <th>2016-08-28</th>\n",
       "      <td>67.0</td>\n",
       "      <td>76.734694</td>\n",
       "      <td>86.0</td>\n",
       "    </tr>\n",
       "    <tr>\n",
       "      <th>2016-08-29</th>\n",
       "      <td>70.0</td>\n",
       "      <td>76.235294</td>\n",
       "      <td>85.0</td>\n",
       "    </tr>\n",
       "    <tr>\n",
       "      <th>2016-08-30</th>\n",
       "      <td>68.0</td>\n",
       "      <td>76.416667</td>\n",
       "      <td>84.0</td>\n",
       "    </tr>\n",
       "  </tbody>\n",
       "</table>\n",
       "</div>"
      ],
      "text/plain": [
       "            tmin       tavg  tmax\n",
       "date                             \n",
       "2016-08-20  68.0  76.452830  82.0\n",
       "2016-08-21  67.0  76.400000  83.0\n",
       "2016-08-22  69.0  76.471698  84.0\n",
       "2016-08-23  67.0  76.692308  87.0\n",
       "2016-08-24  70.0  75.961538  84.0\n",
       "2016-08-25  69.0  76.960784  82.0\n",
       "2016-08-26  71.0  76.568627  84.0\n",
       "2016-08-27  68.0  76.283019  84.0\n",
       "2016-08-28  67.0  76.734694  86.0\n",
       "2016-08-29  70.0  76.235294  85.0\n",
       "2016-08-30  68.0  76.416667  84.0"
      ]
     },
     "execution_count": 45,
     "metadata": {},
     "output_type": "execute_result"
    }
   ],
   "source": [
    "df_02 =pd.DataFrame(normals, columns=['tmin', 'tavg', 'tmax'])\n",
    "df_02[\"date\"]= trip_dates\n",
    "df_02.set_index('date', inplace=True)\n",
    "df_02"
   ]
  },
  {
   "cell_type": "code",
   "execution_count": 46,
   "metadata": {},
   "outputs": [
    {
     "data": {
      "image/png": "[encoded data removed]",
      "text/plain": [
       "<Figure size 432x288 with 1 Axes>"
      ]
     },
     "metadata": {},
     "output_type": "display_data"
    }
   ],
   "source": [
    "df_02.plot(kind='area', stacked=False, x_compat=True, alpha=.2)\n",
    "plt.tight_layout()"
   ]
  },
  {
   "cell_type": "code",
   "execution_count": 47,
   "metadata": {},
   "outputs": [
    {
     "data": {
      "text/plain": [
       "[('USC00513117', 72.0934065934066),\n",
       " ('USC00514830', 75.01785714285714),\n",
       " ('USC00516128', 69.38787878787879),\n",
       " ('USC00517948', 73.25742574257426),\n",
       " ('USC00519281', 70.53296703296704),\n",
       " ('USC00519397', 72.44505494505495),\n",
       " ('USC00519523', 73.44311377245509)]"
      ]
     },
     "execution_count": 47,
     "metadata": {},
     "output_type": "execute_result"
    }
   ],
   "source": [
    "#Temp Analysis 01\n",
    "first_six_months = session.query(Measurement.station, func.avg(Measurement.tobs)).filter(Measurement.date >= '2016-01-01').\\\n",
    "filter(Measurement.date <= '2016-06-30').group_by(Measurement.station).all()\n",
    "first_six_months"
   ]
  },
  {
   "cell_type": "code",
   "execution_count": 48,
   "metadata": {},
   "outputs": [
    {
     "data": {
      "text/html": [
       "<div>\n",
       "<style scoped>\n",
       "    .dataframe tbody tr th:only-of-type {\n",
       "        vertical-align: middle;\n",
       "    }\n",
       "\n",
       "    .dataframe tbody tr th {\n",
       "        vertical-align: top;\n",
       "    }\n",
       "\n",
       "    .dataframe thead th {\n",
       "        text-align: right;\n",
       "    }\n",
       "</style>\n",
       "<table border=\"1\" class=\"dataframe\">\n",
       "  <thead>\n",
       "    <tr style=\"text-align: right;\">\n",
       "      <th></th>\n",
       "      <th>station</th>\n",
       "      <th>first_six_tobs</th>\n",
       "    </tr>\n",
       "  </thead>\n",
       "  <tbody>\n",
       "    <tr>\n",
       "      <th>0</th>\n",
       "      <td>USC00513117</td>\n",
       "      <td>72.093407</td>\n",
       "    </tr>\n",
       "    <tr>\n",
       "      <th>1</th>\n",
       "      <td>USC00514830</td>\n",
       "      <td>75.017857</td>\n",
       "    </tr>\n",
       "    <tr>\n",
       "      <th>2</th>\n",
       "      <td>USC00516128</td>\n",
       "      <td>69.387879</td>\n",
       "    </tr>\n",
       "    <tr>\n",
       "      <th>3</th>\n",
       "      <td>USC00517948</td>\n",
       "      <td>73.257426</td>\n",
       "    </tr>\n",
       "    <tr>\n",
       "      <th>4</th>\n",
       "      <td>USC00519281</td>\n",
       "      <td>70.532967</td>\n",
       "    </tr>\n",
       "    <tr>\n",
       "      <th>5</th>\n",
       "      <td>USC00519397</td>\n",
       "      <td>72.445055</td>\n",
       "    </tr>\n",
       "    <tr>\n",
       "      <th>6</th>\n",
       "      <td>USC00519523</td>\n",
       "      <td>73.443114</td>\n",
       "    </tr>\n",
       "  </tbody>\n",
       "</table>\n",
       "</div>"
      ],
      "text/plain": [
       "       station  first_six_tobs\n",
       "0  USC00513117       72.093407\n",
       "1  USC00514830       75.017857\n",
       "2  USC00516128       69.387879\n",
       "3  USC00517948       73.257426\n",
       "4  USC00519281       70.532967\n",
       "5  USC00519397       72.445055\n",
       "6  USC00519523       73.443114"
      ]
     },
     "execution_count": 48,
     "metadata": {},
     "output_type": "execute_result"
    }
   ],
   "source": [
    "first_df = pd.DataFrame(first_six_months, columns=['station', 'first_six_tobs'])\n",
    "first_df"
   ]
  },
  {
   "cell_type": "code",
   "execution_count": 49,
   "metadata": {},
   "outputs": [
    {
     "data": {
      "text/plain": [
       "[('USC00513117', 75.06521739130434),\n",
       " ('USC00514830', 78.09333333333333),\n",
       " ('USC00516128', 72.70454545454545),\n",
       " ('USC00517948', 76.70093457943925),\n",
       " ('USC00519281', 75.6413043478261),\n",
       " ('USC00519397', 76.52717391304348),\n",
       " ('USC00519523', 78.03389830508475)]"
      ]
     },
     "execution_count": 49,
     "metadata": {},
     "output_type": "execute_result"
    }
   ],
   "source": [
    "second_six_months = session.query(Measurement.station, func.avg(Measurement.tobs)).filter(Measurement.date > '2016-06-31').\\\n",
    "filter(Measurement.date <= '2016-12-31').group_by(Measurement.station).all()\n",
    "second_six_months\n"
   ]
  },
  {
   "cell_type": "code",
   "execution_count": 50,
   "metadata": {},
   "outputs": [],
   "source": [
    "first_df['second_six_tobs'] = [second_six_months[1] for second_six_months in second_six_months]"
   ]
  },
  {
   "cell_type": "code",
   "execution_count": 51,
   "metadata": {},
   "outputs": [
    {
     "name": "stdout",
     "output_type": "stream",
     "text": [
      "compared to the first six motnhs of the year, second six months temp is higher\n"
     ]
    },
    {
     "data": {
      "text/html": [
       "<div>\n",
       "<style scoped>\n",
       "    .dataframe tbody tr th:only-of-type {\n",
       "        vertical-align: middle;\n",
       "    }\n",
       "\n",
       "    .dataframe tbody tr th {\n",
       "        vertical-align: top;\n",
       "    }\n",
       "\n",
       "    .dataframe thead th {\n",
       "        text-align: right;\n",
       "    }\n",
       "</style>\n",
       "<table border=\"1\" class=\"dataframe\">\n",
       "  <thead>\n",
       "    <tr style=\"text-align: right;\">\n",
       "      <th></th>\n",
       "      <th>station</th>\n",
       "      <th>first_six_tobs</th>\n",
       "      <th>second_six_tobs</th>\n",
       "    </tr>\n",
       "  </thead>\n",
       "  <tbody>\n",
       "    <tr>\n",
       "      <th>0</th>\n",
       "      <td>USC00513117</td>\n",
       "      <td>72.093407</td>\n",
       "      <td>75.065217</td>\n",
       "    </tr>\n",
       "    <tr>\n",
       "      <th>1</th>\n",
       "      <td>USC00514830</td>\n",
       "      <td>75.017857</td>\n",
       "      <td>78.093333</td>\n",
       "    </tr>\n",
       "    <tr>\n",
       "      <th>2</th>\n",
       "      <td>USC00516128</td>\n",
       "      <td>69.387879</td>\n",
       "      <td>72.704545</td>\n",
       "    </tr>\n",
       "    <tr>\n",
       "      <th>3</th>\n",
       "      <td>USC00517948</td>\n",
       "      <td>73.257426</td>\n",
       "      <td>76.700935</td>\n",
       "    </tr>\n",
       "    <tr>\n",
       "      <th>4</th>\n",
       "      <td>USC00519281</td>\n",
       "      <td>70.532967</td>\n",
       "      <td>75.641304</td>\n",
       "    </tr>\n",
       "    <tr>\n",
       "      <th>5</th>\n",
       "      <td>USC00519397</td>\n",
       "      <td>72.445055</td>\n",
       "      <td>76.527174</td>\n",
       "    </tr>\n",
       "    <tr>\n",
       "      <th>6</th>\n",
       "      <td>USC00519523</td>\n",
       "      <td>73.443114</td>\n",
       "      <td>78.033898</td>\n",
       "    </tr>\n",
       "  </tbody>\n",
       "</table>\n",
       "</div>"
      ],
      "text/plain": [
       "       station  first_six_tobs  second_six_tobs\n",
       "0  USC00513117       72.093407        75.065217\n",
       "1  USC00514830       75.017857        78.093333\n",
       "2  USC00516128       69.387879        72.704545\n",
       "3  USC00517948       73.257426        76.700935\n",
       "4  USC00519281       70.532967        75.641304\n",
       "5  USC00519397       72.445055        76.527174\n",
       "6  USC00519523       73.443114        78.033898"
      ]
     },
     "execution_count": 51,
     "metadata": {},
     "output_type": "execute_result"
    }
   ],
   "source": [
    "print(f\"compared to the first six motnhs of the year, second six months temp is higher\")\n",
    "first_df"
   ]
  },
  {
   "cell_type": "code",
   "execution_count": 52,
   "metadata": {},
   "outputs": [
    {
     "data": {
      "text/plain": [
       "[('USC00511918', 74.13939393939394),\n",
       " ('USC00513117', 74.05084745762711),\n",
       " ('USC00514830', 76.00537634408602),\n",
       " ('USC00516128', 71.9372197309417),\n",
       " ('USC00517948', 76.6554054054054),\n",
       " ('USC00518838', 73.39473684210526),\n",
       " ('USC00519281', 73.27118644067797),\n",
       " ('USC00519397', 77.55932203389831),\n",
       " ('USC00519523', 76.66810344827586)]"
      ]
     },
     "execution_count": 52,
     "metadata": {},
     "output_type": "execute_result"
    }
   ],
   "source": [
    "month_str = \"06\"\n",
    "june = session.query(Measurement.station, func.avg(Measurement.tobs)).\\\n",
    "    filter(func.strftime(\"%m\", Measurement.date) == month_str).group_by(Measurement.station).all()\n",
    "june"
   ]
  },
  {
   "cell_type": "code",
   "execution_count": 53,
   "metadata": {},
   "outputs": [
    {
     "data": {
      "text/plain": [
       "[('2010-06-01'),\n",
       " ('2010-06-02'),\n",
       " ('2010-06-03'),\n",
       " ('2010-06-04'),\n",
       " ('2010-06-05'),\n",
       " ('2010-06-06'),\n",
       " ('2010-06-07'),\n",
       " ('2010-06-08'),\n",
       " ('2010-06-09'),\n",
       " ('2010-06-10'),\n",
       " ('2010-06-11'),\n",
       " ('2010-06-12'),\n",
       " ('2010-06-13'),\n",
       " ('2010-06-14'),\n",
       " ('2010-06-15'),\n",
       " ('2010-06-16'),\n",
       " ('2010-06-17'),\n",
       " ('2010-06-18'),\n",
       " ('2010-06-19'),\n",
       " ('2010-06-20'),\n",
       " ('2010-06-21'),\n",
       " ('2010-06-22'),\n",
       " ('2010-06-23'),\n",
       " ('2010-06-24'),\n",
       " ('2010-06-25'),\n",
       " ('2010-06-26'),\n",
       " ('2010-06-27'),\n",
       " ('2010-06-28'),\n",
       " ('2010-06-29'),\n",
       " ('2010-06-30'),\n",
       " ('2011-06-01'),\n",
       " ('2011-06-02'),\n",
       " ('2011-06-03'),\n",
       " ('2011-06-04'),\n",
       " ('2011-06-05'),\n",
       " ('2011-06-06'),\n",
       " ('2011-06-07'),\n",
       " ('2011-06-08'),\n",
       " ('2011-06-09'),\n",
       " ('2011-06-10'),\n",
       " ('2011-06-11'),\n",
       " ('2011-06-12'),\n",
       " ('2011-06-13'),\n",
       " ('2011-06-14'),\n",
       " ('2011-06-15'),\n",
       " ('2011-06-17'),\n",
       " ('2011-06-18'),\n",
       " ('2011-06-19'),\n",
       " ('2011-06-20'),\n",
       " ('2011-06-21'),\n",
       " ('2011-06-24'),\n",
       " ('2011-06-25'),\n",
       " ('2011-06-26'),\n",
       " ('2011-06-27'),\n",
       " ('2011-06-28'),\n",
       " ('2011-06-29'),\n",
       " ('2012-06-01'),\n",
       " ('2012-06-02'),\n",
       " ('2012-06-03'),\n",
       " ('2012-06-04'),\n",
       " ('2012-06-05'),\n",
       " ('2012-06-06'),\n",
       " ('2012-06-07'),\n",
       " ('2012-06-08'),\n",
       " ('2012-06-09'),\n",
       " ('2012-06-10'),\n",
       " ('2012-06-11'),\n",
       " ('2012-06-12'),\n",
       " ('2012-06-13'),\n",
       " ('2012-06-14'),\n",
       " ('2012-06-15'),\n",
       " ('2012-06-16'),\n",
       " ('2012-06-17'),\n",
       " ('2012-06-18'),\n",
       " ('2012-06-19'),\n",
       " ('2012-06-20'),\n",
       " ('2012-06-21'),\n",
       " ('2012-06-22'),\n",
       " ('2012-06-23'),\n",
       " ('2012-06-24'),\n",
       " ('2012-06-25'),\n",
       " ('2012-06-26'),\n",
       " ('2012-06-27'),\n",
       " ('2012-06-28'),\n",
       " ('2012-06-29'),\n",
       " ('2012-06-30'),\n",
       " ('2013-06-01'),\n",
       " ('2013-06-02'),\n",
       " ('2013-06-03'),\n",
       " ('2013-06-04'),\n",
       " ('2013-06-05'),\n",
       " ('2013-06-06'),\n",
       " ('2013-06-07'),\n",
       " ('2013-06-08'),\n",
       " ('2013-06-09'),\n",
       " ('2013-06-10'),\n",
       " ('2013-06-11'),\n",
       " ('2013-06-12'),\n",
       " ('2013-06-13'),\n",
       " ('2013-06-14'),\n",
       " ('2013-06-15'),\n",
       " ('2013-06-16'),\n",
       " ('2013-06-17'),\n",
       " ('2013-06-18'),\n",
       " ('2013-06-19'),\n",
       " ('2013-06-20'),\n",
       " ('2013-06-21'),\n",
       " ('2013-06-22'),\n",
       " ('2013-06-23'),\n",
       " ('2013-06-24'),\n",
       " ('2013-06-25'),\n",
       " ('2013-06-26'),\n",
       " ('2013-06-27'),\n",
       " ('2013-06-28'),\n",
       " ('2013-06-29'),\n",
       " ('2013-06-30'),\n",
       " ('2014-06-01'),\n",
       " ('2014-06-02'),\n",
       " ('2014-06-03'),\n",
       " ('2014-06-04'),\n",
       " ('2014-06-05'),\n",
       " ('2014-06-06'),\n",
       " ('2014-06-07'),\n",
       " ('2014-06-08'),\n",
       " ('2014-06-09'),\n",
       " ('2014-06-10'),\n",
       " ('2014-06-11'),\n",
       " ('2014-06-12'),\n",
       " ('2014-06-13'),\n",
       " ('2014-06-14'),\n",
       " ('2014-06-15'),\n",
       " ('2014-06-16'),\n",
       " ('2014-06-17'),\n",
       " ('2014-06-18'),\n",
       " ('2014-06-19'),\n",
       " ('2014-06-20'),\n",
       " ('2014-06-21'),\n",
       " ('2014-06-22'),\n",
       " ('2014-06-23'),\n",
       " ('2014-06-24'),\n",
       " ('2014-06-25'),\n",
       " ('2014-06-26'),\n",
       " ('2014-06-27'),\n",
       " ('2014-06-28'),\n",
       " ('2014-06-29'),\n",
       " ('2014-06-30'),\n",
       " ('2015-06-01'),\n",
       " ('2015-06-02'),\n",
       " ('2015-06-03'),\n",
       " ('2015-06-04'),\n",
       " ('2015-06-05'),\n",
       " ('2015-06-06'),\n",
       " ('2015-06-07'),\n",
       " ('2015-06-08'),\n",
       " ('2015-06-09'),\n",
       " ('2015-06-10'),\n",
       " ('2015-06-11'),\n",
       " ('2015-06-12'),\n",
       " ('2015-06-13'),\n",
       " ('2015-06-14'),\n",
       " ('2015-06-15'),\n",
       " ('2015-06-16'),\n",
       " ('2015-06-17'),\n",
       " ('2015-06-18'),\n",
       " ('2015-06-19'),\n",
       " ('2015-06-20'),\n",
       " ('2015-06-21'),\n",
       " ('2015-06-22'),\n",
       " ('2015-06-23'),\n",
       " ('2015-06-24'),\n",
       " ('2015-06-25'),\n",
       " ('2015-06-26'),\n",
       " ('2015-06-27'),\n",
       " ('2015-06-28'),\n",
       " ('2015-06-29'),\n",
       " ('2015-06-30'),\n",
       " ('2016-06-01'),\n",
       " ('2016-06-02'),\n",
       " ('2016-06-03'),\n",
       " ('2016-06-04'),\n",
       " ('2016-06-05'),\n",
       " ('2016-06-06'),\n",
       " ('2016-06-07'),\n",
       " ('2016-06-08'),\n",
       " ('2016-06-09'),\n",
       " ('2016-06-10'),\n",
       " ('2016-06-11'),\n",
       " ('2016-06-12'),\n",
       " ('2016-06-13'),\n",
       " ('2016-06-14'),\n",
       " ('2016-06-15'),\n",
       " ('2016-06-16'),\n",
       " ('2016-06-17'),\n",
       " ('2016-06-18'),\n",
       " ('2016-06-19'),\n",
       " ('2016-06-20'),\n",
       " ('2016-06-21'),\n",
       " ('2016-06-22'),\n",
       " ('2016-06-23'),\n",
       " ('2016-06-24'),\n",
       " ('2016-06-25'),\n",
       " ('2016-06-26'),\n",
       " ('2016-06-27'),\n",
       " ('2016-06-28'),\n",
       " ('2016-06-29'),\n",
       " ('2016-06-30'),\n",
       " ('2017-06-01'),\n",
       " ('2017-06-02'),\n",
       " ('2017-06-03'),\n",
       " ('2017-06-04'),\n",
       " ('2017-06-05'),\n",
       " ('2017-06-06'),\n",
       " ('2017-06-07'),\n",
       " ('2017-06-08'),\n",
       " ('2017-06-09'),\n",
       " ('2017-06-10'),\n",
       " ('2017-06-11'),\n",
       " ('2017-06-12'),\n",
       " ('2017-06-13'),\n",
       " ('2017-06-14'),\n",
       " ('2017-06-15'),\n",
       " ('2017-06-16'),\n",
       " ('2017-06-17'),\n",
       " ('2017-06-18'),\n",
       " ('2017-06-19'),\n",
       " ('2017-06-20'),\n",
       " ('2017-06-21'),\n",
       " ('2017-06-22'),\n",
       " ('2017-06-23'),\n",
       " ('2017-06-24'),\n",
       " ('2017-06-25'),\n",
       " ('2017-06-26'),\n",
       " ('2017-06-27'),\n",
       " ('2017-06-28'),\n",
       " ('2017-06-29'),\n",
       " ('2017-06-30'),\n",
       " ('2010-06-01'),\n",
       " ('2010-06-02'),\n",
       " ('2010-06-03'),\n",
       " ('2010-06-04'),\n",
       " ('2010-06-05'),\n",
       " ('2010-06-06'),\n",
       " ('2010-06-07'),\n",
       " ('2010-06-08'),\n",
       " ('2010-06-09'),\n",
       " ('2010-06-10'),\n",
       " ('2010-06-11'),\n",
       " ('2010-06-12'),\n",
       " ('2010-06-13'),\n",
       " ('2010-06-14'),\n",
       " ('2010-06-15'),\n",
       " ('2010-06-16'),\n",
       " ('2010-06-17'),\n",
       " ('2010-06-18'),\n",
       " ('2010-06-19'),\n",
       " ('2010-06-20'),\n",
       " ('2010-06-21'),\n",
       " ('2010-06-22'),\n",
       " ('2010-06-23'),\n",
       " ('2010-06-24'),\n",
       " ('2010-06-25'),\n",
       " ('2010-06-26'),\n",
       " ('2010-06-27'),\n",
       " ('2010-06-28'),\n",
       " ('2010-06-29'),\n",
       " ('2010-06-30'),\n",
       " ('2011-06-01'),\n",
       " ('2011-06-02'),\n",
       " ('2011-06-03'),\n",
       " ('2011-06-04'),\n",
       " ('2011-06-05'),\n",
       " ('2011-06-06'),\n",
       " ('2011-06-07'),\n",
       " ('2011-06-08'),\n",
       " ('2011-06-09'),\n",
       " ('2011-06-10'),\n",
       " ('2011-06-11'),\n",
       " ('2011-06-12'),\n",
       " ('2011-06-13'),\n",
       " ('2011-06-14'),\n",
       " ('2011-06-15'),\n",
       " ('2011-06-16'),\n",
       " ('2011-06-17'),\n",
       " ('2011-06-18'),\n",
       " ('2011-06-19'),\n",
       " ('2011-06-20'),\n",
       " ('2011-06-21'),\n",
       " ('2011-06-22'),\n",
       " ('2011-06-23'),\n",
       " ('2011-06-24'),\n",
       " ('2011-06-25'),\n",
       " ('2011-06-26'),\n",
       " ('2011-06-27'),\n",
       " ('2011-06-28'),\n",
       " ('2011-06-29'),\n",
       " ('2011-06-30'),\n",
       " ('2012-06-01'),\n",
       " ('2012-06-02'),\n",
       " ('2012-06-03'),\n",
       " ('2012-06-04'),\n",
       " ('2012-06-05'),\n",
       " ('2012-06-06'),\n",
       " ('2012-06-07'),\n",
       " ('2012-06-08'),\n",
       " ('2012-06-09'),\n",
       " ('2012-06-10'),\n",
       " ('2012-06-11'),\n",
       " ('2012-06-12'),\n",
       " ('2012-06-13'),\n",
       " ('2012-06-14'),\n",
       " ('2012-06-15'),\n",
       " ('2012-06-16'),\n",
       " ('2012-06-17'),\n",
       " ('2012-06-18'),\n",
       " ('2012-06-19'),\n",
       " ('2012-06-20'),\n",
       " ('2012-06-21'),\n",
       " ('2012-06-22'),\n",
       " ('2012-06-23'),\n",
       " ('2012-06-24'),\n",
       " ('2012-06-25'),\n",
       " ('2012-06-26'),\n",
       " ('2012-06-27'),\n",
       " ('2012-06-28'),\n",
       " ('2012-06-29'),\n",
       " ('2012-06-30'),\n",
       " ('2013-06-01'),\n",
       " ('2013-06-02'),\n",
       " ('2013-06-03'),\n",
       " ('2013-06-04'),\n",
       " ('2013-06-05'),\n",
       " ('2013-06-06'),\n",
       " ('2013-06-07'),\n",
       " ('2013-06-08'),\n",
       " ('2013-06-09'),\n",
       " ('2013-06-10'),\n",
       " ('2013-06-11'),\n",
       " ('2013-06-12'),\n",
       " ('2013-06-13'),\n",
       " ('2013-06-14'),\n",
       " ('2013-06-15'),\n",
       " ('2013-06-16'),\n",
       " ('2013-06-17'),\n",
       " ('2013-06-18'),\n",
       " ('2013-06-19'),\n",
       " ('2013-06-20'),\n",
       " ('2013-06-21'),\n",
       " ('2013-06-22'),\n",
       " ('2013-06-23'),\n",
       " ('2013-06-24'),\n",
       " ('2013-06-25'),\n",
       " ('2013-06-26'),\n",
       " ('2013-06-27'),\n",
       " ('2013-06-28'),\n",
       " ('2013-06-29'),\n",
       " ('2013-06-30'),\n",
       " ('2014-06-01'),\n",
       " ('2014-06-02'),\n",
       " ('2014-06-03'),\n",
       " ('2014-06-04'),\n",
       " ('2014-06-05'),\n",
       " ('2014-06-06'),\n",
       " ('2014-06-07'),\n",
       " ('2014-06-08'),\n",
       " ('2014-06-09'),\n",
       " ('2014-06-10'),\n",
       " ('2014-06-11'),\n",
       " ('2014-06-12'),\n",
       " ('2014-06-13'),\n",
       " ('2014-06-14'),\n",
       " ('2014-06-15'),\n",
       " ('2014-06-16'),\n",
       " ('2014-06-17'),\n",
       " ('2014-06-18'),\n",
       " ('2014-06-19'),\n",
       " ('2014-06-20'),\n",
       " ('2014-06-21'),\n",
       " ('2014-06-22'),\n",
       " ('2014-06-23'),\n",
       " ('2014-06-24'),\n",
       " ('2014-06-25'),\n",
       " ('2014-06-26'),\n",
       " ('2014-06-27'),\n",
       " ('2014-06-28'),\n",
       " ('2014-06-29'),\n",
       " ('2014-06-30'),\n",
       " ('2015-06-03'),\n",
       " ('2015-06-04'),\n",
       " ('2015-06-05'),\n",
       " ('2015-06-06'),\n",
       " ('2015-06-07'),\n",
       " ('2015-06-08'),\n",
       " ('2015-06-09'),\n",
       " ('2015-06-10'),\n",
       " ('2015-06-11'),\n",
       " ('2015-06-12'),\n",
       " ('2015-06-13'),\n",
       " ('2015-06-14'),\n",
       " ('2015-06-15'),\n",
       " ('2015-06-16'),\n",
       " ('2015-06-17'),\n",
       " ('2015-06-18'),\n",
       " ('2015-06-19'),\n",
       " ('2015-06-20'),\n",
       " ('2015-06-21'),\n",
       " ('2015-06-22'),\n",
       " ('2015-06-23'),\n",
       " ('2015-06-24'),\n",
       " ('2015-06-25'),\n",
       " ('2015-06-26'),\n",
       " ('2015-06-27'),\n",
       " ('2015-06-29'),\n",
       " ('2016-06-01'),\n",
       " ('2016-06-02'),\n",
       " ('2016-06-03'),\n",
       " ('2016-06-04'),\n",
       " ('2016-06-05'),\n",
       " ('2016-06-06'),\n",
       " ('2016-06-07'),\n",
       " ('2016-06-08'),\n",
       " ('2016-06-09'),\n",
       " ('2016-06-10'),\n",
       " ('2016-06-11'),\n",
       " ('2016-06-12'),\n",
       " ('2016-06-13'),\n",
       " ('2016-06-14'),\n",
       " ('2016-06-15'),\n",
       " ('2016-06-16'),\n",
       " ('2016-06-17'),\n",
       " ('2016-06-18'),\n",
       " ('2016-06-19'),\n",
       " ('2016-06-20'),\n",
       " ('2016-06-21'),\n",
       " ('2016-06-22'),\n",
       " ('2016-06-23'),\n",
       " ('2016-06-24'),\n",
       " ('2016-06-25'),\n",
       " ('2016-06-26'),\n",
       " ('2016-06-27'),\n",
       " ('2016-06-28'),\n",
       " ('2016-06-29'),\n",
       " ('2016-06-30'),\n",
       " ('2017-06-01'),\n",
       " ('2017-06-02'),\n",
       " ('2017-06-03'),\n",
       " ('2017-06-04'),\n",
       " ('2017-06-05'),\n",
       " ('2017-06-06'),\n",
       " ('2017-06-07'),\n",
       " ('2017-06-08'),\n",
       " ('2017-06-09'),\n",
       " ('2017-06-10'),\n",
       " ('2017-06-11'),\n",
       " ('2017-06-12'),\n",
       " ('2017-06-13'),\n",
       " ('2017-06-14'),\n",
       " ('2017-06-15'),\n",
       " ('2017-06-16'),\n",
       " ('2017-06-17'),\n",
       " ('2017-06-18'),\n",
       " ('2017-06-19'),\n",
       " ('2017-06-20'),\n",
       " ('2017-06-21'),\n",
       " ('2017-06-22'),\n",
       " ('2017-06-23'),\n",
       " ('2017-06-24'),\n",
       " ('2017-06-25'),\n",
       " ('2017-06-26'),\n",
       " ('2017-06-27'),\n",
       " ('2017-06-28'),\n",
       " ('2017-06-29'),\n",
       " ('2017-06-30'),\n",
       " ('2010-06-01'),\n",
       " ('2010-06-02'),\n",
       " ('2010-06-03'),\n",
       " ('2010-06-04'),\n",
       " ('2010-06-05'),\n",
       " ('2010-06-06'),\n",
       " ('2010-06-07'),\n",
       " ('2010-06-08'),\n",
       " ('2010-06-09'),\n",
       " ('2010-06-10'),\n",
       " ('2010-06-11'),\n",
       " ('2010-06-12'),\n",
       " ('2010-06-13'),\n",
       " ('2010-06-14'),\n",
       " ('2010-06-15'),\n",
       " ('2010-06-16'),\n",
       " ('2010-06-17'),\n",
       " ('2010-06-18'),\n",
       " ('2010-06-19'),\n",
       " ('2010-06-20'),\n",
       " ('2010-06-21'),\n",
       " ('2010-06-22'),\n",
       " ('2010-06-23'),\n",
       " ('2010-06-24'),\n",
       " ('2010-06-25'),\n",
       " ('2010-06-27'),\n",
       " ('2010-06-28'),\n",
       " ('2010-06-29'),\n",
       " ('2010-06-30'),\n",
       " ('2011-06-01'),\n",
       " ('2011-06-02'),\n",
       " ('2011-06-03'),\n",
       " ('2011-06-04'),\n",
       " ('2011-06-05'),\n",
       " ('2011-06-06'),\n",
       " ('2011-06-07'),\n",
       " ('2011-06-08'),\n",
       " ('2011-06-09'),\n",
       " ('2011-06-10'),\n",
       " ('2011-06-13'),\n",
       " ('2011-06-14'),\n",
       " ('2011-06-15'),\n",
       " ('2011-06-16'),\n",
       " ('2011-06-17'),\n",
       " ('2011-06-18'),\n",
       " ('2011-06-19'),\n",
       " ('2011-06-21'),\n",
       " ('2011-06-22'),\n",
       " ('2011-06-23'),\n",
       " ('2011-06-24'),\n",
       " ('2011-06-25'),\n",
       " ('2011-06-27'),\n",
       " ('2011-06-28'),\n",
       " ('2012-06-21'),\n",
       " ('2012-06-22'),\n",
       " ('2012-06-24'),\n",
       " ('2012-06-25'),\n",
       " ('2012-06-26'),\n",
       " ('2012-06-27'),\n",
       " ('2012-06-28'),\n",
       " ('2012-06-29'),\n",
       " ('2012-06-30'),\n",
       " ('2013-06-03'),\n",
       " ('2013-06-04'),\n",
       " ('2013-06-05'),\n",
       " ('2013-06-06'),\n",
       " ('2013-06-07'),\n",
       " ('2013-06-08'),\n",
       " ('2013-06-09'),\n",
       " ('2013-06-10'),\n",
       " ('2013-06-11'),\n",
       " ('2013-06-12'),\n",
       " ('2013-06-13'),\n",
       " ('2013-06-14'),\n",
       " ('2013-06-16'),\n",
       " ('2013-06-17'),\n",
       " ('2013-06-18'),\n",
       " ('2013-06-19'),\n",
       " ('2013-06-20'),\n",
       " ('2013-06-25'),\n",
       " ('2013-06-26'),\n",
       " ('2013-06-27'),\n",
       " ('2014-06-01'),\n",
       " ('2014-06-02'),\n",
       " ('2014-06-03'),\n",
       " ('2014-06-04'),\n",
       " ('2014-06-05'),\n",
       " ('2014-06-06'),\n",
       " ('2014-06-07'),\n",
       " ('2014-06-09'),\n",
       " ('2014-06-10'),\n",
       " ('2014-06-11'),\n",
       " ('2014-06-12'),\n",
       " ('2014-06-13'),\n",
       " ('2014-06-14'),\n",
       " ('2014-06-16'),\n",
       " ('2014-06-17'),\n",
       " ('2014-06-18'),\n",
       " ('2014-06-19'),\n",
       " ('2014-06-20'),\n",
       " ('2014-06-21'),\n",
       " ('2014-06-23'),\n",
       " ('2014-06-24'),\n",
       " ('2014-06-25'),\n",
       " ('2014-06-26'),\n",
       " ('2014-06-27'),\n",
       " ('2014-06-29'),\n",
       " ('2014-06-30'),\n",
       " ('2015-06-01'),\n",
       " ('2015-06-03'),\n",
       " ('2015-06-04'),\n",
       " ('2015-06-05'),\n",
       " ('2015-06-06'),\n",
       " ('2015-06-08'),\n",
       " ('2015-06-09'),\n",
       " ('2015-06-10'),\n",
       " ('2015-06-11'),\n",
       " ('2015-06-12'),\n",
       " ('2015-06-14'),\n",
       " ('2015-06-15'),\n",
       " ('2015-06-16'),\n",
       " ('2015-06-17'),\n",
       " ('2015-06-18'),\n",
       " ('2015-06-19'),\n",
       " ('2015-06-20'),\n",
       " ('2015-06-21'),\n",
       " ('2015-06-22'),\n",
       " ('2015-06-23'),\n",
       " ('2015-06-24'),\n",
       " ('2015-06-25'),\n",
       " ('2015-06-26'),\n",
       " ('2015-06-27'),\n",
       " ('2015-06-28'),\n",
       " ('2015-06-29'),\n",
       " ('2015-06-30'),\n",
       " ('2016-06-01'),\n",
       " ('2016-06-02'),\n",
       " ('2016-06-03'),\n",
       " ('2016-06-07'),\n",
       " ('2016-06-08'),\n",
       " ('2016-06-09'),\n",
       " ('2016-06-10'),\n",
       " ('2016-06-11'),\n",
       " ('2016-06-12'),\n",
       " ('2016-06-13'),\n",
       " ('2016-06-14'),\n",
       " ('2016-06-15'),\n",
       " ('2016-06-16'),\n",
       " ('2016-06-17'),\n",
       " ('2016-06-18'),\n",
       " ('2016-06-19'),\n",
       " ('2016-06-20'),\n",
       " ('2016-06-21'),\n",
       " ('2016-06-22'),\n",
       " ('2016-06-23'),\n",
       " ('2016-06-24'),\n",
       " ('2016-06-25'),\n",
       " ('2016-06-26'),\n",
       " ('2016-06-27'),\n",
       " ('2016-06-28'),\n",
       " ('2016-06-29'),\n",
       " ('2016-06-30'),\n",
       " ('2017-06-01'),\n",
       " ('2017-06-02'),\n",
       " ('2017-06-03'),\n",
       " ('2017-06-04'),\n",
       " ('2017-06-05'),\n",
       " ('2017-06-06'),\n",
       " ('2017-06-07'),\n",
       " ('2017-06-08'),\n",
       " ('2017-06-09'),\n",
       " ('2017-06-10'),\n",
       " ('2017-06-11'),\n",
       " ('2017-06-12'),\n",
       " ('2017-06-13'),\n",
       " ('2017-06-14'),\n",
       " ('2017-06-15'),\n",
       " ('2017-06-16'),\n",
       " ('2017-06-17'),\n",
       " ('2017-06-18'),\n",
       " ('2017-06-19'),\n",
       " ('2017-06-20'),\n",
       " ('2017-06-23'),\n",
       " ('2017-06-26'),\n",
       " ('2017-06-29'),\n",
       " ('2017-06-30'),\n",
       " ('2010-06-01'),\n",
       " ('2010-06-02'),\n",
       " ('2010-06-03'),\n",
       " ('2010-06-04'),\n",
       " ('2010-06-07'),\n",
       " ('2010-06-08'),\n",
       " ('2010-06-09'),\n",
       " ('2010-06-10'),\n",
       " ('2010-06-15'),\n",
       " ('2010-06-16'),\n",
       " ('2010-06-17'),\n",
       " ('2010-06-18'),\n",
       " ('2010-06-21'),\n",
       " ('2010-06-22'),\n",
       " ('2010-06-23'),\n",
       " ('2010-06-24'),\n",
       " ('2010-06-25'),\n",
       " ('2010-06-28'),\n",
       " ('2010-06-29'),\n",
       " ('2010-06-30'),\n",
       " ('2011-06-01'),\n",
       " ('2011-06-02'),\n",
       " ('2011-06-03'),\n",
       " ('2011-06-06'),\n",
       " ('2011-06-07'),\n",
       " ('2011-06-08'),\n",
       " ('2011-06-09'),\n",
       " ('2011-06-13'),\n",
       " ('2011-06-14'),\n",
       " ('2011-06-15'),\n",
       " ('2011-06-16'),\n",
       " ('2011-06-17'),\n",
       " ('2011-06-20'),\n",
       " ('2011-06-21'),\n",
       " ('2011-06-22'),\n",
       " ('2011-06-23'),\n",
       " ('2011-06-24'),\n",
       " ('2011-06-27'),\n",
       " ('2011-06-28'),\n",
       " ('2011-06-29'),\n",
       " ('2011-06-30'),\n",
       " ('2012-06-01'),\n",
       " ('2012-06-04'),\n",
       " ('2012-06-05'),\n",
       " ('2012-06-06'),\n",
       " ('2012-06-07'),\n",
       " ('2012-06-08'),\n",
       " ('2012-06-12'),\n",
       " ('2012-06-13'),\n",
       " ('2012-06-14'),\n",
       " ('2012-06-15'),\n",
       " ('2012-06-18'),\n",
       " ('2012-06-19'),\n",
       " ('2012-06-20'),\n",
       " ('2012-06-21'),\n",
       " ('2012-06-22'),\n",
       " ('2012-06-25'),\n",
       " ('2012-06-26'),\n",
       " ('2012-06-27'),\n",
       " ('2012-06-28'),\n",
       " ('2012-06-29'),\n",
       " ('2013-06-03'),\n",
       " ('2013-06-04'),\n",
       " ('2013-06-05'),\n",
       " ('2013-06-06'),\n",
       " ('2013-06-07'),\n",
       " ('2013-06-10'),\n",
       " ('2013-06-12'),\n",
       " ('2013-06-13'),\n",
       " ('2013-06-14'),\n",
       " ('2013-06-17'),\n",
       " ('2013-06-18'),\n",
       " ('2013-06-19'),\n",
       " ('2013-06-20'),\n",
       " ('2013-06-21'),\n",
       " ('2013-06-25'),\n",
       " ('2013-06-26'),\n",
       " ('2013-06-27'),\n",
       " ('2013-06-28'),\n",
       " ('2014-06-02'),\n",
       " ('2014-06-03'),\n",
       " ('2014-06-04'),\n",
       " ('2014-06-05'),\n",
       " ('2014-06-06'),\n",
       " ('2014-06-09'),\n",
       " ('2014-06-10'),\n",
       " ('2014-06-12'),\n",
       " ('2014-06-13'),\n",
       " ('2014-06-16'),\n",
       " ('2014-06-17'),\n",
       " ('2014-06-18'),\n",
       " ('2014-06-19'),\n",
       " ('2014-06-20'),\n",
       " ('2014-06-27'),\n",
       " ('2015-06-10'),\n",
       " ('2015-06-12'),\n",
       " ('2015-06-15'),\n",
       " ('2015-06-16'),\n",
       " ('2015-06-17'),\n",
       " ('2015-06-18'),\n",
       " ('2015-06-19'),\n",
       " ('2015-06-22'),\n",
       " ('2015-06-23'),\n",
       " ('2015-06-24'),\n",
       " ('2015-06-25'),\n",
       " ('2015-06-29'),\n",
       " ('2015-06-30'),\n",
       " ('2016-06-01'),\n",
       " ('2016-06-02'),\n",
       " ('2016-06-03'),\n",
       " ('2016-06-06'),\n",
       " ('2016-06-07'),\n",
       " ('2016-06-08'),\n",
       " ('2016-06-09'),\n",
       " ('2016-06-13'),\n",
       " ('2016-06-14'),\n",
       " ('2016-06-15'),\n",
       " ('2016-06-16'),\n",
       " ('2016-06-17'),\n",
       " ('2016-06-20'),\n",
       " ('2016-06-21'),\n",
       " ('2016-06-22'),\n",
       " ('2016-06-23'),\n",
       " ('2016-06-24'),\n",
       " ('2016-06-27'),\n",
       " ('2016-06-28'),\n",
       " ('2016-06-29'),\n",
       " ('2016-06-30'),\n",
       " ('2017-06-02'),\n",
       " ('2017-06-05'),\n",
       " ('2017-06-06'),\n",
       " ('2017-06-07'),\n",
       " ('2017-06-08'),\n",
       " ('2017-06-09'),\n",
       " ('2017-06-13'),\n",
       " ('2017-06-14'),\n",
       " ('2017-06-15'),\n",
       " ('2017-06-16'),\n",
       " ('2017-06-19'),\n",
       " ('2017-06-20'),\n",
       " ('2017-06-21'),\n",
       " ('2017-06-22'),\n",
       " ('2017-06-23'),\n",
       " ('2017-06-26'),\n",
       " ('2017-06-27'),\n",
       " ('2017-06-28'),\n",
       " ('2017-06-29'),\n",
       " ('2017-06-30'),\n",
       " ('2010-06-01'),\n",
       " ('2010-06-02'),\n",
       " ('2010-06-03'),\n",
       " ('2010-06-04'),\n",
       " ('2010-06-05'),\n",
       " ('2010-06-06'),\n",
       " ('2010-06-09'),\n",
       " ('2010-06-10'),\n",
       " ('2010-06-11'),\n",
       " ('2010-06-12'),\n",
       " ('2010-06-13'),\n",
       " ('2010-06-15'),\n",
       " ('2010-06-17'),\n",
       " ('2010-06-18'),\n",
       " ('2010-06-19'),\n",
       " ('2010-06-20'),\n",
       " ('2010-06-22'),\n",
       " ('2010-06-23'),\n",
       " ('2010-06-24'),\n",
       " ('2010-06-25'),\n",
       " ('2010-06-28'),\n",
       " ('2010-06-29'),\n",
       " ('2010-06-30'),\n",
       " ('2011-06-08'),\n",
       " ('2011-06-09'),\n",
       " ('2011-06-12'),\n",
       " ('2011-06-13'),\n",
       " ('2011-06-14'),\n",
       " ('2011-06-15'),\n",
       " ('2011-06-16'),\n",
       " ('2011-06-20'),\n",
       " ('2011-06-21'),\n",
       " ('2011-06-22'),\n",
       " ('2012-06-01'),\n",
       " ('2012-06-14'),\n",
       " ('2012-06-21'),\n",
       " ('2012-06-26'),\n",
       " ('2012-06-29'),\n",
       " ('2010-06-01'),\n",
       " ('2010-06-02'),\n",
       " ('2010-06-03'),\n",
       " ('2010-06-04'),\n",
       " ('2010-06-05'),\n",
       " ('2010-06-06'),\n",
       " ('2010-06-07'),\n",
       " ('2010-06-08'),\n",
       " ('2010-06-09'),\n",
       " ('2010-06-10'),\n",
       " ('2010-06-11'),\n",
       " ('2010-06-12'),\n",
       " ('2010-06-13'),\n",
       " ('2010-06-14'),\n",
       " ('2010-06-15'),\n",
       " ('2010-06-16'),\n",
       " ('2010-06-17'),\n",
       " ('2010-06-18'),\n",
       " ('2010-06-19'),\n",
       " ('2010-06-20'),\n",
       " ('2010-06-21'),\n",
       " ('2010-06-22'),\n",
       " ('2010-06-23'),\n",
       " ('2010-06-24'),\n",
       " ('2010-06-25'),\n",
       " ('2010-06-26'),\n",
       " ('2010-06-28'),\n",
       " ('2010-06-29'),\n",
       " ('2010-06-30'),\n",
       " ('2011-06-01'),\n",
       " ('2011-06-02'),\n",
       " ('2011-06-03'),\n",
       " ('2011-06-04'),\n",
       " ('2011-06-05'),\n",
       " ('2011-06-06'),\n",
       " ('2011-06-07'),\n",
       " ('2011-06-08'),\n",
       " ('2011-06-09'),\n",
       " ('2011-06-10'),\n",
       " ('2011-06-11'),\n",
       " ('2011-06-12'),\n",
       " ('2011-06-13'),\n",
       " ('2011-06-14'),\n",
       " ('2011-06-15'),\n",
       " ('2011-06-16'),\n",
       " ('2011-06-17'),\n",
       " ('2011-06-18'),\n",
       " ('2011-06-19'),\n",
       " ('2011-06-20'),\n",
       " ('2011-06-21'),\n",
       " ('2011-06-22'),\n",
       " ('2011-06-23'),\n",
       " ('2011-06-24'),\n",
       " ('2011-06-25'),\n",
       " ('2011-06-26'),\n",
       " ('2011-06-27'),\n",
       " ('2011-06-28'),\n",
       " ('2011-06-29'),\n",
       " ('2011-06-30'),\n",
       " ('2012-06-01'),\n",
       " ('2012-06-02'),\n",
       " ('2012-06-03'),\n",
       " ('2012-06-04'),\n",
       " ('2012-06-05'),\n",
       " ('2012-06-06'),\n",
       " ('2012-06-07'),\n",
       " ('2012-06-08'),\n",
       " ('2012-06-09'),\n",
       " ('2012-06-10'),\n",
       " ('2012-06-11'),\n",
       " ('2012-06-12'),\n",
       " ('2012-06-13'),\n",
       " ('2012-06-14'),\n",
       " ('2012-06-15'),\n",
       " ('2012-06-16'),\n",
       " ('2012-06-17'),\n",
       " ('2012-06-18'),\n",
       " ('2012-06-19'),\n",
       " ('2012-06-20'),\n",
       " ('2012-06-21'),\n",
       " ('2012-06-22'),\n",
       " ('2012-06-23'),\n",
       " ('2012-06-24'),\n",
       " ('2012-06-25'),\n",
       " ('2012-06-26'),\n",
       " ('2012-06-27'),\n",
       " ('2012-06-28'),\n",
       " ('2012-06-29'),\n",
       " ('2012-06-30'),\n",
       " ('2013-06-01'),\n",
       " ('2013-06-02'),\n",
       " ('2013-06-03'),\n",
       " ('2013-06-04'),\n",
       " ('2013-06-05'),\n",
       " ('2013-06-06'),\n",
       " ('2013-06-07'),\n",
       " ('2013-06-08'),\n",
       " ('2013-06-09'),\n",
       " ('2013-06-10'),\n",
       " ('2013-06-11'),\n",
       " ('2013-06-12'),\n",
       " ('2013-06-13'),\n",
       " ('2013-06-14'),\n",
       " ('2013-06-15'),\n",
       " ('2013-06-16'),\n",
       " ('2013-06-17'),\n",
       " ('2013-06-18'),\n",
       " ('2013-06-19'),\n",
       " ('2013-06-20'),\n",
       " ('2013-06-21'),\n",
       " ('2013-06-22'),\n",
       " ('2013-06-23'),\n",
       " ('2013-06-24'),\n",
       " ('2013-06-25'),\n",
       " ('2013-06-26'),\n",
       " ('2013-06-27'),\n",
       " ('2013-06-29'),\n",
       " ('2013-06-30'),\n",
       " ('2014-06-01'),\n",
       " ('2014-06-02'),\n",
       " ('2014-06-04'),\n",
       " ('2014-06-05'),\n",
       " ('2014-06-06'),\n",
       " ('2014-06-07'),\n",
       " ('2014-06-08'),\n",
       " ('2014-06-09'),\n",
       " ('2014-06-10'),\n",
       " ('2014-06-11'),\n",
       " ('2014-06-12'),\n",
       " ('2014-06-13'),\n",
       " ('2014-06-14'),\n",
       " ('2014-06-15'),\n",
       " ('2014-06-16'),\n",
       " ('2014-06-18'),\n",
       " ('2014-06-19'),\n",
       " ('2014-06-20'),\n",
       " ('2014-06-21'),\n",
       " ('2014-06-22'),\n",
       " ('2014-06-23'),\n",
       " ('2014-06-24'),\n",
       " ('2014-06-25'),\n",
       " ('2014-06-26'),\n",
       " ('2014-06-28'),\n",
       " ('2014-06-29'),\n",
       " ('2014-06-30'),\n",
       " ('2015-06-01'),\n",
       " ('2015-06-02'),\n",
       " ('2015-06-03'),\n",
       " ('2015-06-04'),\n",
       " ('2015-06-05'),\n",
       " ('2015-06-06'),\n",
       " ('2015-06-07'),\n",
       " ('2015-06-08'),\n",
       " ('2015-06-09'),\n",
       " ('2015-06-10'),\n",
       " ('2015-06-11'),\n",
       " ...]"
      ]
     },
     "execution_count": 53,
     "metadata": {},
     "output_type": "execute_result"
    }
   ],
   "source": [
    "month_str = \"06\"\n",
    "session.query(Measurement.date).\\\n",
    "    filter(func.strftime(\"%m\", Measurement.date) == month_str).all()\n"
   ]
  },
  {
   "cell_type": "code",
   "execution_count": 54,
   "metadata": {},
   "outputs": [
    {
     "data": {
      "text/plain": [
       "[('USC00511918', 69.6842105263158),\n",
       " ('USC00513117', 71.06944444444444),\n",
       " ('USC00514830', 73.2247191011236),\n",
       " ('USC00516128', 69.29126213592232),\n",
       " ('USC00517948', 71.8348623853211),\n",
       " ('USC00518838', 72.42105263157895),\n",
       " ('USC00519281', 69.90322580645162),\n",
       " ('USC00519397', 71.10952380952381),\n",
       " ('USC00519523', 72.43333333333334)]"
      ]
     },
     "execution_count": 54,
     "metadata": {},
     "output_type": "execute_result"
    }
   ],
   "source": [
    "dec_str = \"12\"\n",
    "dec = session.query(Measurement.station, func.avg(Measurement.tobs)).\\\n",
    "    filter(func.strftime(\"%m\", Measurement.date) == dec_str).group_by(Measurement.station).all()\n",
    "dec"
   ]
  },
  {
   "cell_type": "code",
   "execution_count": 55,
   "metadata": {},
   "outputs": [],
   "source": [
    "june_list = [june[1] for june in june]\n",
    "dec_list = [dec[1] for dec in dec] "
   ]
  },
  {
   "cell_type": "code",
   "execution_count": 56,
   "metadata": {},
   "outputs": [
    {
     "data": {
      "text/plain": [
       "74.85351018249018"
      ]
     },
     "execution_count": 56,
     "metadata": {},
     "output_type": "execute_result"
    }
   ],
   "source": [
    "np.mean(june_list)"
   ]
  },
  {
   "cell_type": "code",
   "execution_count": 57,
   "metadata": {},
   "outputs": [
    {
     "data": {
      "text/plain": [
       "71.21907046377945"
      ]
     },
     "execution_count": 57,
     "metadata": {},
     "output_type": "execute_result"
    }
   ],
   "source": [
    "np.mean(dec_list)"
   ]
  },
  {
   "cell_type": "code",
   "execution_count": 58,
   "metadata": {},
   "outputs": [],
   "source": [
    "from scipy import stats"
   ]
  },
  {
   "cell_type": "code",
   "execution_count": 59,
   "metadata": {},
   "outputs": [
    {
     "data": {
      "text/plain": [
       "Ttest_indResult(statistic=4.615865424404701, pvalue=0.00028626292761018595)"
      ]
     },
     "execution_count": 59,
     "metadata": {},
     "output_type": "execute_result"
    }
   ],
   "source": [
    "stats.ttest_ind(june_list, dec_list)"
   ]
  },
  {
   "cell_type": "code",
   "execution_count": 60,
   "metadata": {},
   "outputs": [
    {
     "name": "stdout",
     "output_type": "stream",
     "text": [
      "there is no statistically significant between June and Dec temp cause the pvalue is 0.0002 \n"
     ]
    }
   ],
   "source": [
    "print(f\"there is no statistically significant between June and Dec temp cause the pvalue is {0.0002} \")"
   ]
  },
  {
   "cell_type": "code",
   "execution_count": null,
   "metadata": {},
   "outputs": [],
   "source": []
  }
 ],
 "metadata": {
  "kernel_info": {
   "name": "python3"
  },
  "kernelspec": {
   "display_name": "Python 3",
   "language": "python",
   "name": "python3"
  },
  "language_info": {
   "codemirror_mode": {
    "name": "ipython",
    "version": 3
   },
   "file_extension": ".py",
   "mimetype": "text/x-python",
   "name": "python",
   "nbconvert_exporter": "python",
   "pygments_lexer": "ipython3",
   "version": "3.8.5"
  },
  "nteract": {
   "version": "0.12.3"
  },
  "varInspector": {
   "cols": {
    "lenName": 16,
    "lenType": 16,
    "lenVar": 40
   },
   "kernels_config": {
    "python": {
     "delete_cmd_postfix": "",
     "delete_cmd_prefix": "del ",
     "library": "var_list.py",
     "varRefreshCmd": "print(var_dic_list())"
    },
    "r": {
     "delete_cmd_postfix": ") ",
     "delete_cmd_prefix": "rm(",
     "library": "var_list.r",
     "varRefreshCmd": "cat(var_dic_list()) "
    }
   },
   "types_to_exclude": [
    "module",
    "function",
    "builtin_function_or_method",
    "instance",
    "_Feature"
   ],
   "window_display": false
  }
 },
 "nbformat": 4,
 "nbformat_minor": 4
}
